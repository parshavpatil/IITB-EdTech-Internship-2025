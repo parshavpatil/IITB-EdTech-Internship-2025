{
 "cells": [
  {
   "cell_type": "code",
   "execution_count": 4,
   "id": "712cab3a",
   "metadata": {},
   "outputs": [
    {
     "name": "stdout",
     "output_type": "stream",
     "text": [
      "Dropped 153 features due to high correlation\n",
      "Final features shape: (41, 363)\n",
      "Preprocessing complete and saved to CSV.\n"
     ]
    }
   ],
   "source": [
    "import numpy as np\n",
    "import pandas as pd\n",
    "from sklearn.impute import SimpleImputer\n",
    "from sklearn.preprocessing import StandardScaler\n",
    "from sklearn.feature_selection import VarianceThreshold\n",
    "\n",
    "# Load feature matrix with summary statistics\n",
    "feature_matrix = pd.read_csv(\"C:\\\\Users\\\\parshav\\\\Desktop\\\\EdTech_Final\\\\feature_matrix.csv\")\n",
    "\n",
    "# Separate features and target columns\n",
    "feature_cols = [col for col in feature_matrix.columns if not col.startswith('TARGET')]\n",
    "target_cols = [col for col in feature_matrix.columns if col.startswith('TARGET')]\n",
    "\n",
    "X = feature_matrix[feature_cols]\n",
    "y = feature_matrix[target_cols]\n",
    "\n",
    "# Replace infinite values with NaN\n",
    "X = X.replace([np.inf, -np.inf], np.nan)\n",
    "\n",
    "# Drop columns where all values are NaN (cannot impute these)\n",
    "X = X.dropna(axis=1, how='all')\n",
    "\n",
    "# Impute missing values with mean of each column\n",
    "imputer = SimpleImputer(strategy='mean')\n",
    "X_imputed = imputer.fit_transform(X)\n",
    "\n",
    "# Get columns after dropping all NaN columns for DataFrame creation\n",
    "imputed_cols = X.columns\n",
    "\n",
    "# Scale features using z-score normalization\n",
    "scaler = StandardScaler()\n",
    "X_scaled = scaler.fit_transform(X_imputed)\n",
    "\n",
    "# Create DataFrame of scaled features\n",
    "X_scaled_df = pd.DataFrame(X_scaled, columns=imputed_cols)\n",
    "\n",
    "# Remove low-variance features\n",
    "low_var_thresh = 1e-5\n",
    "selector_var = VarianceThreshold(threshold=low_var_thresh)\n",
    "X_low_var = selector_var.fit_transform(X_scaled_df)\n",
    "cols_low_var = X_scaled_df.columns[selector_var.get_support()]\n",
    "\n",
    "df_low_var = pd.DataFrame(X_low_var, columns=cols_low_var)\n",
    "\n",
    "# Remove highly correlated features (corr > 0.95)\n",
    "corr_matrix = df_low_var.corr().abs()\n",
    "upper = corr_matrix.where(np.triu(np.ones(corr_matrix.shape), k=1).astype(bool))\n",
    "to_drop = [column for column in upper.columns if any(upper[column] > 0.95)]\n",
    "df_final = df_low_var.drop(columns=to_drop)\n",
    "\n",
    "print(f\"Dropped {len(cols_low_var) - len(df_final.columns)} features due to high correlation\")\n",
    "print(f\"Final features shape: {df_final.shape}\")\n",
    "\n",
    "# Save final preprocessed features and targets\n",
    "df_final.to_csv('features_preprocessed.csv', index=False)\n",
    "y.to_csv('targets.csv', index=False)\n",
    "\n",
    "print(\"Preprocessing complete and saved to CSV.\")\n"
   ]
  }
 ],
 "metadata": {
  "kernelspec": {
   "display_name": "Python 3",
   "language": "python",
   "name": "python3"
  },
  "language_info": {
   "codemirror_mode": {
    "name": "ipython",
    "version": 3
   },
   "file_extension": ".py",
   "mimetype": "text/x-python",
   "name": "python",
   "nbconvert_exporter": "python",
   "pygments_lexer": "ipython3",
   "version": "3.11.9"
  }
 },
 "nbformat": 4,
 "nbformat_minor": 5
}
